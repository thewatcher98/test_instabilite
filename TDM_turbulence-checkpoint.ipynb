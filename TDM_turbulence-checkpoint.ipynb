{
 "cells": [
  {
   "cell_type": "code",
   "execution_count": 74,
   "id": "standard-school",
   "metadata": {},
   "outputs": [
    {
     "ename": "IndentationError",
     "evalue": "unexpected indent (<ipython-input-74-d1691ab69684>, line 12)",
     "output_type": "error",
     "traceback": [
      "\u001b[1;36m  File \u001b[1;32m\"<ipython-input-74-d1691ab69684>\"\u001b[1;36m, line \u001b[1;32m12\u001b[0m\n\u001b[1;33m    y_hat_plus.append(line_split[1])\u001b[0m\n\u001b[1;37m    ^\u001b[0m\n\u001b[1;31mIndentationError\u001b[0m\u001b[1;31m:\u001b[0m unexpected indent\n"
     ]
    }
   ],
   "source": [
    "import numpy as np\n",
    "from matplotlib import pyplot as plt\n",
    "import pandas as pd\n",
    "\n",
    "lst=[]\n",
    "y_delta=[]\n",
    "file=open('LM_Channel_5200_prof.txt','r+')\n",
    "for line in file:\n",
    "    line_split=line.split()\n",
    "    y_delta.append(line_split[0])\n",
    "    y_hat_plus.append(line_split[1])\n",
    "    U.append(line_split[2])\n",
    "    dU_dy.append(line_split[3])\n",
    "    W.append(line_split[4])\n",
    "    P.append(line_split[5])\n",
    "    u_u.append(line_split[6])\n",
    "    u_prime_u_prime.append(line_split[7])\n",
    "    v_prime_v_prime.append(line_split[8])\n",
    "    w_prime_w_prime.append(line_split[9])\n",
    "    u_prime_v_prime.append(line_split[10])\n",
    "    u_prime_w_prime.append(line_split[11])\n",
    "    P.append(line_split[5])\n",
    "                    \n",
    "    \n",
    "    \n",
    "    \n",
    "    y_hat_plus_vec=np.array(y_hat_plus)\n",
    "    y_delta_vec=np.array(y_delta)\n",
    "    #print(line_split)\n",
    "y_delta_vec=y_delta_vec.reshape(1,768)\n",
    "print(y_delta_vec[0][0])\n",
    "file.close()"
   ]
  },
  {
   "cell_type": "code",
   "execution_count": null,
   "id": "pregnant-assessment",
   "metadata": {},
   "outputs": [],
   "source": []
  }
 ],
 "metadata": {
  "kernelspec": {
   "display_name": "Python 3",
   "language": "python",
   "name": "python3"
  },
  "language_info": {
   "codemirror_mode": {
    "name": "ipython",
    "version": 3
   },
   "file_extension": ".py",
   "mimetype": "text/x-python",
   "name": "python",
   "nbconvert_exporter": "python",
   "pygments_lexer": "ipython3",
   "version": "3.8.6"
  }
 },
 "nbformat": 4,
 "nbformat_minor": 5
}
