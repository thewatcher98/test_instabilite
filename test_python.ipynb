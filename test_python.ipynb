from matplotlib import pyplot as plt
import pandas as pd
import numpy as np

vec=np.array([2,2,2,2,2,2,2,2,2,2,2])
vec_u=2*vec
plt.plot(vec,vec_u)
plt.show()
